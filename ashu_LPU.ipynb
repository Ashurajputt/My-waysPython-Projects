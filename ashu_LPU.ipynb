{
 "cells": [
  {
   "cell_type": "markdown",
   "id": "7d2e26be",
   "metadata": {},
   "source": [
    "# Dice Roll Simulator"
   ]
  },
  {
   "cell_type": "code",
   "execution_count": null,
   "id": "c14cae39",
   "metadata": {},
   "outputs": [],
   "source": [
    "import random \n",
    "\n",
    "again = True \n",
    "\n",
    "while again: \n",
    "     print(random.randint(1, 6))\n",
    "     another_roll = input(\"want to roll the dice again? (y/n): \")\n",
    "     if another_roll.lower() == \"y\":\n",
    "         continue \n",
    "     else:\n",
    "         break"
   ]
  },
  {
   "cell_type": "markdown",
   "id": "84704795",
   "metadata": {},
   "source": [
    "# Armstrong Number"
   ]
  },
  {
   "cell_type": "code",
   "execution_count": null,
   "id": "b247c7fd",
   "metadata": {},
   "outputs": [],
   "source": [
    "num = int(input(\"Enter No.\"))\n",
    "\n",
    "order = len(str(num))\n",
    "\n",
    "sum = 0\n",
    "\n",
    "temp = num\n",
    "while temp > 0:\n",
    "   digit = temp % 10\n",
    "   sum += digit ** order\n",
    "   temp //= 10\n",
    "\n",
    "if num == sum:\n",
    "   print(num,\"is an Armstrong number\")\n",
    "else:\n",
    "   print(num,\"is not an Armstrong number\")"
   ]
  },
  {
   "cell_type": "markdown",
   "id": "2b5ee459",
   "metadata": {},
   "source": [
    "# Spell Correction"
   ]
  },
  {
   "cell_type": "code",
   "execution_count": null,
   "id": "fe04d052",
   "metadata": {},
   "outputs": [],
   "source": [
    "import textblob\n",
    "\n",
    "from textblob import TextBlob\n",
    " \n",
    "sentence = input(\"Enter Sentence/Word: \")          \n",
    "print(\"original text: \"+str(sentence))\n",
    " \n",
    "corr_sen = TextBlob(sentence)\n",
    " \n",
    "\n",
    "print(\"corrected text: \"+str(corr_sen.correct()))"
   ]
  },
  {
   "cell_type": "code",
   "execution_count": null,
   "id": "de32ff2c",
   "metadata": {},
   "outputs": [],
   "source": []
  },
  {
   "cell_type": "code",
   "execution_count": null,
   "id": "928608cb",
   "metadata": {},
   "outputs": [],
   "source": []
  }
 ],
 "metadata": {
  "kernelspec": {
   "display_name": "Python 3 (ipykernel)",
   "language": "python",
   "name": "python3"
  },
  "language_info": {
   "codemirror_mode": {
    "name": "ipython",
    "version": 3
   },
   "file_extension": ".py",
   "mimetype": "text/x-python",
   "name": "python",
   "nbconvert_exporter": "python",
   "pygments_lexer": "ipython3",
   "version": "3.9.12"
  }
 },
 "nbformat": 4,
 "nbformat_minor": 5
}
